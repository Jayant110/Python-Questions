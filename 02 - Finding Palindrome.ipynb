{
 "cells": [
  {
   "cell_type": "markdown",
   "id": "ac4285d4",
   "metadata": {},
   "source": [
    "### Problem Statement 1 :-\n",
    "\n",
    "A palindrome is a string that, when reversed, is equal to itself. Example of some palindromes can be :\n",
    "\n",
    "676, 616, mom, 100001, level, mam etc.\n",
    "\n",
    "1. You have to take multiple numbers as an input from the user. \n",
    "2. You have to find the next palindrome corresponding to that number. \n",
    "\n",
    "#### *Note :*\n",
    "Take the number of test cases. (The program should ask for how many numbers they want to know the next palindrome.)\n",
    "\n",
    "#### Input:\n",
    "3\n",
    "\n",
    "451\n",
    "\n",
    "10\n",
    "\n",
    "2133\n",
    "\n",
    "#### Output:\n",
    "\n",
    "Next palindrome for 451 is 454.\n",
    "\n",
    "Next palindrome for 10 is 11.\n",
    "\n",
    "Next palindrome for 2311 is 2222.\n"
   ]
  },
  {
   "cell_type": "code",
   "execution_count": 5,
   "id": "6f0bb5f1",
   "metadata": {},
   "outputs": [
    {
     "name": "stdout",
     "output_type": "stream",
     "text": [
      "Enter the number of test cases : \n",
      "3\n",
      "Enter the number :\n",
      "1\n",
      "Enter the number :\n",
      "45\n",
      "Enter the number :\n",
      "32\n",
      "Next palindrome for 1 is 2\n",
      "Next palindrome for 45 is 55\n",
      "Next palindrome for 32 is 33\n"
     ]
    }
   ],
   "source": [
    "def is_palindrome(n):\n",
    "    return str(n) == str(n)[::-1]\n",
    "\n",
    "def next_palindrome(n):\n",
    "    n = n + 1\n",
    "    while not is_palindrome(n):\n",
    "        n += 1\n",
    "    return n\n",
    "\n",
    "if __name__ == \"__main__\":\n",
    "    n = int(input(\"Enter the number of test cases : \\n\"))\n",
    "    numbers = []\n",
    "    for i in range(n):\n",
    "        number = int(input(\"Enter the number :\\n\"))\n",
    "        numbers.append(number)\n",
    "\n",
    "    for i in range(n):\n",
    "        print(f\"Next palindrome for {numbers[i]} is {next_palindrome(numbers[i])}\")"
   ]
  },
  {
   "cell_type": "markdown",
   "id": "2a655041",
   "metadata": {},
   "source": [
    "### Problem Statement :-\n",
    "\n",
    "1. You are given a list that contains some numbers. \n",
    "2. You have to print a list of next palindromes only if the number is greater than 10, otherwise, it will print that number.\n",
    "\n",
    "#### Input:\n",
    "[1, 6, 87, 43]\n",
    "\n",
    "#### Output:\n",
    "[1, 6, 88, 44]"
   ]
  },
  {
   "cell_type": "code",
   "execution_count": 2,
   "id": "d3df5ca4",
   "metadata": {},
   "outputs": [
    {
     "name": "stdout",
     "output_type": "stream",
     "text": [
      "Enter how many elements your list will have : \n",
      "3\n",
      "Enter elements : \n",
      "[10,48,63]\n"
     ]
    },
    {
     "ename": "ValueError",
     "evalue": "invalid literal for int() with base 10: '[10,48,63]'",
     "output_type": "error",
     "traceback": [
      "\u001b[1;31m---------------------------------------------------------------------------\u001b[0m",
      "\u001b[1;31mValueError\u001b[0m                                Traceback (most recent call last)",
      "Input \u001b[1;32mIn [2]\u001b[0m, in \u001b[0;36m<cell line: 13>\u001b[1;34m()\u001b[0m\n\u001b[0;32m     11\u001b[0m lst \u001b[38;5;241m=\u001b[39m []\n\u001b[0;32m     13\u001b[0m \u001b[38;5;28;01mfor\u001b[39;00m i \u001b[38;5;129;01min\u001b[39;00m \u001b[38;5;28mrange\u001b[39m(size):\n\u001b[1;32m---> 14\u001b[0m     lst\u001b[38;5;241m.\u001b[39mappend(\u001b[38;5;28;43mint\u001b[39;49m\u001b[43m(\u001b[49m\u001b[38;5;28;43minput\u001b[39;49m\u001b[43m(\u001b[49m\u001b[38;5;124;43m\"\u001b[39;49m\u001b[38;5;124;43mEnter elements : \u001b[39;49m\u001b[38;5;130;43;01m\\n\u001b[39;49;00m\u001b[38;5;124;43m\"\u001b[39;49m\u001b[43m)\u001b[49m\u001b[43m)\u001b[49m)\n\u001b[0;32m     16\u001b[0m \u001b[38;5;28mprint\u001b[39m(\u001b[38;5;124mf\u001b[39m\u001b[38;5;124m\"\u001b[39m\u001b[38;5;124mYour entered list is \u001b[39m\u001b[38;5;132;01m{\u001b[39;00mlst\u001b[38;5;132;01m}\u001b[39;00m\u001b[38;5;124m\"\u001b[39m)\n\u001b[0;32m     18\u001b[0m \u001b[38;5;66;03m# if we go line by line execution\u001b[39;00m\n",
      "\u001b[1;31mValueError\u001b[0m: invalid literal for int() with base 10: '[10,48,63]'"
     ]
    }
   ],
   "source": [
    "def is_palindrome(n):\n",
    "    return str(n) == str(n)[::-1]\n",
    "\n",
    "def next_palindrome(n):\n",
    "    n + 1\n",
    "    while is_palindrome(n) == False:\n",
    "        n += 1\n",
    "    return n \n",
    "\n",
    "size = int(input(\"Enter how many elements your list will have : \\n\"))\n",
    "lst = []\n",
    "\n",
    "for i in range(size):\n",
    "    lst.append(int(input(\"Enter elements : \\n\")))\n",
    "\n",
    "print(f\"Your entered list is {lst}\")\n",
    "\n",
    "# if we go line by line execution\n",
    "new_list = []\n",
    "\n",
    "for element in lst:\n",
    "    if element > 10:\n",
    "        n = next_palindrome(element)\n",
    "        new_list.append(n)\n",
    "    else:\n",
    "        new_list.append(element)\n",
    "\n",
    "print(f\"Output list : {new_list}\")\n",
    "\n",
    "# if we for a single line.\n",
    "# print(f\"Output list : {[lst[i] if lst[i] < 10 else next_palindrome(lst[i]) for i in range(size)]}\")"
   ]
  },
  {
   "cell_type": "code",
   "execution_count": null,
   "id": "b64f7ec2",
   "metadata": {},
   "outputs": [],
   "source": []
  }
 ],
 "metadata": {
  "kernelspec": {
   "display_name": "Python 3 (ipykernel)",
   "language": "python",
   "name": "python3"
  },
  "language_info": {
   "codemirror_mode": {
    "name": "ipython",
    "version": 3
   },
   "file_extension": ".py",
   "mimetype": "text/x-python",
   "name": "python",
   "nbconvert_exporter": "python",
   "pygments_lexer": "ipython3",
   "version": "3.9.12"
  }
 },
 "nbformat": 4,
 "nbformat_minor": 5
}
