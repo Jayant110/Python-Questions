{
 "cells": [
  {
   "cell_type": "markdown",
   "id": "68ba1fae",
   "metadata": {},
   "source": [
    "### Problem Statement:-\n",
    "    \n",
    "1. Take Age or Year of birth as an input from the user. \n",
    "2. Store the input in one variable. \n",
    "\n",
    "*Note : Your program should detect whether the entered input is age or year of birth.*\n",
    "\n",
    "#### Tasks :\n",
    "1. Tell the user when they will turn 100 years old.   (5 points)\n",
    "2. Users can optionally provide any year, and the program must tell their age in that particular year.  (3 points)\n",
    "\n",
    "#### Few instructions that you must have to follow :\n",
    "\n",
    "1. Do not use any type of module like DateTime or date utils.    (-5 points)\n",
    "2. Your code should handle all sorts of errors like :            (2 points)\n",
    "* You are not yet born.\n",
    "* You seem to be the oldest person alive.\n",
    "* You can also handle any other errors, if possible."
   ]
  },
  {
   "cell_type": "code",
   "execution_count": null,
   "id": "c7fe5ce7",
   "metadata": {},
   "outputs": [],
   "source": [
    "# Solution\n",
    "\n",
    "take_age_birthyear = int(input(\"Enter your Age/Year of Birth : \"))\n",
    "user_birth_year = 0\n",
    "\n",
    "is_Age = False\n",
    "is_Year = False\n",
    "\n",
    "if len(str(user_age_birthyear)) == 4:\n",
    "    is_Year = True\n",
    "else:\n",
    "    is_Age = True\n",
    "    \n",
    "if (user_age_birthyear < 1900 and is_Year):\n",
    "    print(\"You seem to be the oldest person alive\")\n",
    "    exit()\n",
    "\n",
    "if (user_age_birthyear > 2022 and is_Year):\n",
    "    print(\"You are not yet born\")\n",
    "    exit()\n",
    "\n",
    "if is_Age:\n",
    "    user_birth_year = 2022 - user_age_birthyear\n",
    "    print(\"Your birth year must be\", user_birth_year)\n",
    "    \n",
    "print(f\"You will be 100 years old in {user_birth_year + 100}\")\n",
    "\n",
    "interested_age = int(input(\"Enter the year you want to know your age in : \"))\n",
    "print(f\"You will be {interested_age - user_birth_year} years old in {interested_age}\")"
   ]
  }
 ],
 "metadata": {
  "kernelspec": {
   "display_name": "Python 3 (ipykernel)",
   "language": "python",
   "name": "python3"
  },
  "language_info": {
   "codemirror_mode": {
    "name": "ipython",
    "version": 3
   },
   "file_extension": ".py",
   "mimetype": "text/x-python",
   "name": "python",
   "nbconvert_exporter": "python",
   "pygments_lexer": "ipython3",
   "version": "3.9.12"
  }
 },
 "nbformat": 4,
 "nbformat_minor": 5
}
