{
 "cells": [
  {
   "cell_type": "markdown",
   "id": "78acd03d",
   "metadata": {},
   "source": [
    "### Problem Statement :-\n",
    "\n",
    "1. Mr. X is a fraud by nature. He wrote a python function to print a multiplication table of a given number and put one of the values (randomly generated) as wrong.\n",
    "\n",
    "2. He did this to fool his classmates and make them commit a mistake in a test.\n",
    "\n",
    "3. You cannot tolerate this so you decided to use your python skills to write a python program that validates Mr. X’s multiplication table.\n",
    "\n",
    "4. Your function should be able to find out the wrong values in the table.\n",
    "\n",
    "*Note: Mr. X’s function returns a list of numbers like this :*\n",
    "\n",
    "#### Input:\n",
    "Multiplication(6)\n",
    "\n",
    "#### Output:\n",
    "[6, 12, 18, 26, …., 60]\n",
    "\n",
    "#### You have to write a function isCorrect(table, number) and also return the index where Mr. X’s function is wrong and print it to the screen! If the table is correct, your function returns None"
   ]
  },
  {
   "cell_type": "code",
   "execution_count": 12,
   "id": "01fbb9cc",
   "metadata": {},
   "outputs": [],
   "source": [
    "import random\n",
    "\n",
    "def x_Multiplication(number):\n",
    "    wrong = random.randint(0, 9)\n",
    "    table = [i * number for i in range(1, 11)]\n",
    "    table[wrong] = table[wrong] + random.randint(1,10)\n",
    "    \n",
    "    return table"
   ]
  },
  {
   "cell_type": "code",
   "execution_count": 13,
   "id": "31326d1e",
   "metadata": {},
   "outputs": [
    {
     "data": {
      "text/plain": [
       "[14, 28, 42, 56, 70, 84, 98, 112, 128, 140]"
      ]
     },
     "execution_count": 13,
     "metadata": {},
     "output_type": "execute_result"
    }
   ],
   "source": [
    "x_Multiplication(14)"
   ]
  }
 ],
 "metadata": {
  "kernelspec": {
   "display_name": "Python 3 (ipykernel)",
   "language": "python",
   "name": "python3"
  },
  "language_info": {
   "codemirror_mode": {
    "name": "ipython",
    "version": 3
   },
   "file_extension": ".py",
   "mimetype": "text/x-python",
   "name": "python",
   "nbconvert_exporter": "python",
   "pygments_lexer": "ipython3",
   "version": "3.9.12"
  }
 },
 "nbformat": 4,
 "nbformat_minor": 5
}
