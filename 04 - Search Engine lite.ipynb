{
 "cells": [
  {
   "cell_type": "markdown",
   "id": "869e548f",
   "metadata": {},
   "source": [
    "### Problem Statement:-\n",
    "\n",
    "1. You are given few sentences as a list (Python list of sentences).\n",
    "2. You can take these OR Take any number sentences of your wish. \n",
    "\n",
    "#### Your program has to check how many common words are there in both the sentences\n",
    "\n",
    "Sentences = [\"Python is cool\", \"python is good\", \"python is not python snake\"]"
   ]
  },
  {
   "cell_type": "code",
   "execution_count": 1,
   "id": "9db5dbec",
   "metadata": {},
   "outputs": [
    {
     "data": {
      "text/plain": [
       "(2, ['Python', 'is'])"
      ]
     },
     "execution_count": 1,
     "metadata": {},
     "output_type": "execute_result"
    }
   ],
   "source": [
    "def matchingWords(sentence1, sentence2):\n",
    "    words_in_sentence1 = sentence1.split(\" \")\n",
    "    words_in_sentence2 = sentence2.split(\" \")\n",
    "    score = 0\n",
    "    matches = []\n",
    "    for word1 in words_in_sentence1:\n",
    "        for word2  in  words_in_sentence2:\n",
    "            if word1.lower() == word2.lower():\n",
    "                matches.append(word1)\n",
    "                score +=1\n",
    "    return score, matches\n",
    "\n",
    "matchingWords(\"Python is cool\", \"python is good\")"
   ]
  },
  {
   "cell_type": "markdown",
   "id": "526820ef",
   "metadata": {},
   "source": [
    "####  Lets complicate the above question a bit more."
   ]
  },
  {
   "cell_type": "code",
   "execution_count": 1,
   "id": "0ebd42b0",
   "metadata": {
    "collapsed": true
   },
   "outputs": [
    {
     "name": "stdout",
     "output_type": "stream",
     "text": [
      "Please enter the words you're looking for : \n",
      "jay\n",
      "\n",
      "\"We're not talking about a snake here.\" has 0 match.\n",
      "\n",
      "\n",
      "\"Python is interesting and challenging.\" has 0 match.\n",
      "\n",
      "\n",
      "\"Jayant sings from his heart.\" has 0 match.\n",
      "\n",
      "\n",
      "\"Jayant is learning python\" has 0 match.\n",
      "\n"
     ]
    }
   ],
   "source": [
    "def matchingWords(sentence1, sentence2):\n",
    "    words_in_sentence1 = sentence1.split(\" \")\n",
    "    words_in_sentence2 = sentence2.split(\" \")\n",
    "    score = 0\n",
    "    matches = []\n",
    "    for word1 in words_in_sentence1:\n",
    "        for word2  in  words_in_sentence2:\n",
    "            if word1.lower() == word2.lower():\n",
    "                matches.append(word1)\n",
    "                score +=1\n",
    "    return score\n",
    "\n",
    "# pre-determined\n",
    "sentences = [\"Python is interesting and challenging.\", \"Jayant is learning python\",\n",
    "             \"We're not talking about a snake here.\", \"Jayant sings from his heart.\"]\n",
    "\n",
    "# it will take words from user\n",
    "querry = input(\"Please enter the words you're looking for : \\n\")\n",
    "scores = []\n",
    "\n",
    "# it will search querry in each sentence.\n",
    "for i in sentences:\n",
    "    scores.append(matchingWords(querry, i))\n",
    "\n",
    "'''\n",
    "or by list comprehension\n",
    "scores = [matchingWords(querry, sentence) for sentence in sentences]\n",
    "'''\n",
    "\n",
    "# here, we will append how many matches we have found in each sentences\n",
    "match_found = []\n",
    "\n",
    "# experiment a bit with zip() then you'll understand its usecase here.\n",
    "for sent_score in sorted(zip(scores, sentences),reverse = True):\n",
    "    match_found.append(sent_score)\n",
    "    \n",
    "'''\n",
    "again we can achieve it with list comprehension,\n",
    "match_found = [sent_score for sent_score in sorted(zip(scores, sentences), reverse = True)]\n",
    "'''    \n",
    "\n",
    "# we're only making it more readable.\n",
    "for score, sentence in match_found:\n",
    "    print(f'\\n\"{sentence}\" has {score} match.\\n')"
   ]
  }
 ],
 "metadata": {
  "kernelspec": {
   "display_name": "Python 3 (ipykernel)",
   "language": "python",
   "name": "python3"
  },
  "language_info": {
   "codemirror_mode": {
    "name": "ipython",
    "version": 3
   },
   "file_extension": ".py",
   "mimetype": "text/x-python",
   "name": "python",
   "nbconvert_exporter": "python",
   "pygments_lexer": "ipython3",
   "version": "3.9.12"
  }
 },
 "nbformat": 4,
 "nbformat_minor": 5
}
